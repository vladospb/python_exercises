{
  "nbformat": 4,
  "nbformat_minor": 0,
  "metadata": {
    "colab": {
      "provenance": [],
      "authorship_tag": "ABX9TyMhxY8S3GbX3yQoDRv7Wbcb",
      "include_colab_link": true
    },
    "kernelspec": {
      "name": "python3",
      "display_name": "Python 3"
    },
    "language_info": {
      "name": "python"
    }
  },
  "cells": [
    {
      "cell_type": "markdown",
      "metadata": {
        "id": "view-in-github",
        "colab_type": "text"
      },
      "source": [
        "<a href=\"https://colab.research.google.com/github/vladospb/python_exercises/blob/main/hw3-exercise-2.ipynb\" target=\"_parent\"><img src=\"https://colab.research.google.com/assets/colab-badge.svg\" alt=\"Open In Colab\"/></a>"
      ]
    },
    {
      "cell_type": "markdown",
      "source": [
        "Задача 2. 55 баллов Работаем с датасетом https://disk.yandex.ru/d/P6u1Za-nnmtwPA Скачайте его."
      ],
      "metadata": {
        "id": "FjBjEkm8rmh7"
      }
    },
    {
      "cell_type": "code",
      "execution_count": null,
      "metadata": {
        "id": "laCe6Npure0P"
      },
      "outputs": [],
      "source": [
        "import pandas as pd\n",
        "import numpy as np\n",
        "import os, sys, json\n",
        "import urllib.parse as ul\n",
        "\n",
        "def get_CSV_FromYandex(url):\n",
        "    base_url = 'https://cloud-api.yandex.net:443/v1/disk/public/resources/download?public_key='\n",
        "    folder = '.'\n",
        "    res = os.popen('wget -qO - {}{}'.format(base_url, url)).read()\n",
        "    json_res = json.loads(res)\n",
        "    filename = ul.parse_qs(ul.urlparse(json_res['href']).query)['filename'][0]\n",
        "    os.system(\"wget '{}' -P '{}' -O '{}'\".format(json_res['href'], folder, filename))\n",
        "    return filename\n",
        "\n",
        "\n",
        "df = pd.read_csv(get_CSV_FromYandex('https://disk.yandex.ru/d/P6u1Za-nnmtwPA'), index_col=0)"
      ]
    },
    {
      "cell_type": "markdown",
      "source": [
        "Оцениваем факторы, которые влияют на цену на аренду в Москве. Описание столбцов: metro - ближайшая станция метро price - цена за аренды minutes - расстояние до метро в минутах way - пусть до метро (пешком или на транспорте) views - просмотры квартиры provider - кто сдает квартиру (собственник, риелтор, застройщик) fee_percent - процент, который получает риелтор storey- этаж storeys- число этажей в здании living_area - жилая площаль kitchen_area - площадь кухни total_area - общая площадь"
      ],
      "metadata": {
        "id": "MBVxGhxKrkXj"
      }
    },
    {
      "cell_type": "markdown",
      "source": [
        "Часть 1. EDA. 30 баллов"
      ],
      "metadata": {
        "id": "BrnafsiwrqDa"
      }
    },
    {
      "cell_type": "markdown",
      "source": [
        "Отобразите первые 5 и последние 5 строк. (1)"
      ],
      "metadata": {
        "id": "Ep8iZ8f9rskQ"
      }
    },
    {
      "cell_type": "code",
      "source": [],
      "metadata": {
        "id": "l0KyW8D-rr5o"
      },
      "execution_count": null,
      "outputs": []
    },
    {
      "cell_type": "markdown",
      "source": [
        "Посчитайте описательные статистики числовых переменных с помощью describe() (1)"
      ],
      "metadata": {
        "id": "hw9U9dGAsBCo"
      }
    },
    {
      "cell_type": "code",
      "source": [],
      "metadata": {
        "id": "5BzQP02psCeB"
      },
      "execution_count": null,
      "outputs": []
    },
    {
      "cell_type": "markdown",
      "source": [
        "Посчитайте статистики по категориальным переменным. Сколько уникальных значений у переменной metro? (1)"
      ],
      "metadata": {
        "id": "O9z2rcUgsDVY"
      }
    },
    {
      "cell_type": "code",
      "source": [],
      "metadata": {
        "id": "EvAki38nsD8a"
      },
      "execution_count": null,
      "outputs": []
    },
    {
      "cell_type": "markdown",
      "source": [
        "Есть ли в датасете пропуски? (1)"
      ],
      "metadata": {
        "id": "PHawMOq6sEvQ"
      }
    },
    {
      "cell_type": "code",
      "source": [],
      "metadata": {
        "id": "gKGYruwLsFEh"
      },
      "execution_count": null,
      "outputs": []
    },
    {
      "cell_type": "markdown",
      "source": [
        "Есть ли в датасете полные дубликаты? (2)"
      ],
      "metadata": {
        "id": "LvXF3m63sFyo"
      }
    },
    {
      "cell_type": "code",
      "source": [],
      "metadata": {
        "id": "MXPYDYScsGDw"
      },
      "execution_count": null,
      "outputs": []
    },
    {
      "cell_type": "markdown",
      "source": [
        "Сколько уникальных значений у переменной provider? Есть ли со значениями этой переменной какие-нибудь проблемы? Если да, то как их исправить? (3)\n",
        "Ответ текстом"
      ],
      "metadata": {
        "id": "c5-5dYSBsHhI"
      }
    },
    {
      "cell_type": "markdown",
      "source": [],
      "metadata": {
        "id": "mUjy_Lz3sJlg"
      }
    },
    {
      "cell_type": "markdown",
      "source": [
        "Постройте гистограммы распределения всех числовых переменных. Не забудьте подписать график и оси. (2)"
      ],
      "metadata": {
        "id": "DvVKCNrVsLJh"
      }
    },
    {
      "cell_type": "code",
      "source": [],
      "metadata": {
        "id": "G44mPnoPsLt5"
      },
      "execution_count": null,
      "outputs": []
    },
    {
      "cell_type": "markdown",
      "source": [
        "Напишите функцию, которая принимает на вход датасет, названия столбцов, название графика и осей и рисует scatter plot. Нариcуйте с её помощью не менее трёх scatterplot. (4)"
      ],
      "metadata": {
        "id": "dOpDMgSFsM6J"
      }
    },
    {
      "cell_type": "code",
      "source": [],
      "metadata": {
        "id": "BohhNriAsNQy"
      },
      "execution_count": null,
      "outputs": []
    },
    {
      "cell_type": "markdown",
      "source": [
        "Нарисуйте scatterplot всех пар переменных с помощью sns.pairplot. (1)"
      ],
      "metadata": {
        "id": "6yrxgjfKsOJY"
      }
    },
    {
      "cell_type": "code",
      "source": [],
      "metadata": {
        "id": "3HtsFIGxsOR8"
      },
      "execution_count": null,
      "outputs": []
    },
    {
      "cell_type": "markdown",
      "source": [
        "Нарисуйте boxplot переменной price. (2)"
      ],
      "metadata": {
        "id": "hZDYm83rsPDp"
      }
    },
    {
      "cell_type": "code",
      "source": [],
      "metadata": {
        "id": "72CnxMVRsPPa"
      },
      "execution_count": null,
      "outputs": []
    },
    {
      "cell_type": "markdown",
      "source": [
        "Нарисуйте еще какой-нибудь график, который считайте нужным. (2)"
      ],
      "metadata": {
        "id": "iPUBJy2MsQJJ"
      }
    },
    {
      "cell_type": "code",
      "source": [],
      "metadata": {
        "id": "i3kV-Z0RsQQ6"
      },
      "execution_count": null,
      "outputs": []
    },
    {
      "cell_type": "markdown",
      "source": [
        "Какие выводы можно сделать из визуализаций 7-12? (2) Ответ текстом"
      ],
      "metadata": {
        "id": "--SBDYPDsRI4"
      }
    },
    {
      "cell_type": "markdown",
      "source": [],
      "metadata": {
        "id": "P0dZC_TosRTi"
      }
    },
    {
      "cell_type": "markdown",
      "source": [
        "Постройте таблицу корреляций и тепловую карту числовых переменных. Между какими переменными наблюдается линейная связь? (3) Ответ текстом"
      ],
      "metadata": {
        "id": "N84O6qxlsSnS"
      }
    },
    {
      "cell_type": "markdown",
      "source": [],
      "metadata": {
        "id": "Jx2oo9A3sSxx"
      }
    },
    {
      "cell_type": "markdown",
      "source": [
        "Часть 2. Построение модели. 30 баллов\n",
        "Раздйлите датасет на обучающую и тестовую выборку. Постройте линейную регрессию для переменной price, используя только числовые переменные.\n",
        "Перед этим стандартизируйте все независимые переменные с помощью StandardScaler. (5)"
      ],
      "metadata": {
        "id": "oMz-D7gTsUcQ"
      }
    },
    {
      "cell_type": "code",
      "source": [
        "from sklearn.linear_model import LinearRegression\n",
        "from sklearn.metrics import mean_squared_error as MSE,  root_mean_squared_error as RMSE\n",
        "from sklearn.model_selection import train_test_split\n",
        "from sklearn.preprocessing import StandardScaler"
      ],
      "metadata": {
        "id": "y1iVNGJNsW-B"
      },
      "execution_count": null,
      "outputs": []
    },
    {
      "cell_type": "markdown",
      "source": [
        "Сделайте прогноз, посчитайте MSE и RMSE модели на тестовой выборке (5)"
      ],
      "metadata": {
        "id": "eRmbZAyKsY1x"
      }
    },
    {
      "cell_type": "code",
      "source": [],
      "metadata": {
        "id": "2yLrVKKqsZFR"
      },
      "execution_count": null,
      "outputs": []
    },
    {
      "cell_type": "markdown",
      "source": [
        "Закодируйте переменные way и provider с помощью OneHotEncoding и добавьте их в модель. Обучите модель еще раз, посчитайте MSE и RMSE (5)"
      ],
      "metadata": {
        "id": "Ecn-i-EhsaBA"
      }
    },
    {
      "cell_type": "code",
      "source": [],
      "metadata": {
        "id": "_BrwvNCKsaPa"
      },
      "execution_count": null,
      "outputs": []
    },
    {
      "cell_type": "markdown",
      "source": [
        "Удалите из обучающей выборке выбросы по цене (тестовую выборку не трогайте!) Выбросами считайте цены, которые дороже, чем Q3+1.5∗IQR,\n",
        "где IQR - межквартильный размах, Q3 - 75 перцентиль. Обучите модель еще раз, посчитайте MSE и RMSE (5)"
      ],
      "metadata": {
        "id": "8WukqgAcsbtB"
      }
    },
    {
      "cell_type": "code",
      "source": [],
      "metadata": {
        "id": "LMH98Swzsch7"
      },
      "execution_count": null,
      "outputs": []
    },
    {
      "cell_type": "markdown",
      "source": [
        "Попробуйте написать свою реализацию функций MSE и RMSE. Функции должна принимать на вход numpy-массив истинных значений и предсказаний и возвращать результат.\n",
        "Примените функции к предсказаниям последней модели. Сравните результат с библиотечной реализацией. (6) Напоминаем, что\n",
        "MSE=1n∑ni=1(yi−yi^)2, где yi - истинное значение на i-ом наблюдении, yi^ - предсказание модели на i-ом наблюдении.\n",
        "Также рекомендуем ознакомиться с документацией: https://scikit-learn.org/stable/modules/generated/sklearn.metrics.mean_squared_error.html"
      ],
      "metadata": {
        "id": "QJAI2gjIseVx"
      }
    },
    {
      "cell_type": "code",
      "source": [],
      "metadata": {
        "id": "fT9exPVUsfyh"
      },
      "execution_count": null,
      "outputs": []
    },
    {
      "cell_type": "markdown",
      "source": [
        "Попробуйте улучшить модель, добавив еще какое-нибудь преобразование (например, можете оставить только часть столбцов, добавить новые признаки, закодировать переменную metro и т.п.). Посчитайте метрики. Удалось ли улучшить модель? (4)\n",
        "Примечание. Любой разумный технически верно проведенный эксперимент засчитывается, даже если метрику улучшить не удалось."
      ],
      "metadata": {
        "id": "cbDR-x_-shFo"
      }
    },
    {
      "cell_type": "code",
      "source": [],
      "metadata": {
        "id": "_LET9DZNsiBj"
      },
      "execution_count": null,
      "outputs": []
    }
  ]
}